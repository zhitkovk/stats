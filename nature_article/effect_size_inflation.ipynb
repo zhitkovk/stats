{
 "cells": [
  {
   "cell_type": "markdown",
   "metadata": {},
   "source": [
    "# Power failure: why small sample size undermines the reliability of neuroscience\n",
    "\n",
    "I've recently read an [article](https://www.nature.com/articles/nrn3475) about low power in neuroscience research and its influence on effect sizes.\n",
    "\n",
    "In this simulation I wanted to study the following key point from the article:\n",
    "\n",
    ">We discuss the consequences of such low statistical power, which include overestimates of effect size and low reproducibility of results.\n",
    "\n",
    "### Are effect sizes overestimated?"
   ]
  },
  {
   "cell_type": "markdown",
   "metadata": {},
   "source": [
    "#### Params"
   ]
  },
  {
   "cell_type": "code",
   "execution_count": 11,
   "metadata": {},
   "outputs": [],
   "source": [
    "# abs effect 0.05; relative = 0.1\n",
    "p1 = 0.5\n",
    "p2 = 0.55"
   ]
  },
  {
   "cell_type": "code",
   "execution_count": 12,
   "metadata": {},
   "outputs": [
    {
     "name": "stdout",
     "output_type": "stream",
     "text": [
      "Required sample size for such set of params is 1569.7721019023288\n"
     ]
    }
   ],
   "source": [
    "from statsmodels.stats import power\n",
    "ssize = power.zt_ind_solve_power(effect_size=0.1, alpha=0.05, power=0.8, ratio=1)\n",
    "print(f'Required sample size for such set of params is {ssize}')"
   ]
  },
  {
   "cell_type": "markdown",
   "metadata": {},
   "source": [
    "#### Let's use the same sample size but lower the effect, so that the power is not enough"
   ]
  },
  {
   "cell_type": "code",
   "execution_count": 40,
   "metadata": {},
   "outputs": [],
   "source": [
    "# 0.52/0.5 = 0.04\n",
    "p3=0.52"
   ]
  },
  {
   "cell_type": "code",
   "execution_count": 16,
   "metadata": {},
   "outputs": [
    {
     "name": "stdout",
     "output_type": "stream",
     "text": [
      "For such sample and effect sizes the power becomes 0.20169718715921628\n"
     ]
    }
   ],
   "source": [
    "pwr = power.zt_ind_solve_power(effect_size=0.04, alpha=0.05, nobs1=1570, ratio=1)\n",
    "print(f'For such sample and effect sizes the power becomes {pwr}')"
   ]
  },
  {
   "cell_type": "markdown",
   "metadata": {},
   "source": [
    "#### required sample size for effect real effect 0.55 - 0.50, but we use it when trying to detect 0.52-0.5 effect, getting an underpowered study"
   ]
  },
  {
   "cell_type": "code",
   "execution_count": 64,
   "metadata": {},
   "outputs": [],
   "source": [
    "import numpy as np\n",
    "from scipy.stats import binom, ttest_ind\n",
    "from tqdm import tqdm"
   ]
  },
  {
   "cell_type": "code",
   "execution_count": 81,
   "metadata": {},
   "outputs": [
    {
     "name": "stderr",
     "output_type": "stream",
     "text": [
      "100%|██████████| 10000/10000 [00:05<00:00, 1891.88it/s]\n"
     ]
    }
   ],
   "source": [
    "samp_size = 1570\n",
    "\n",
    "ef = []\n",
    "pvs = []\n",
    "\n",
    "for i in tqdm(range(nsim)):\n",
    "    x = binom.rvs(n=1, size=samp_size, p=p1)\n",
    "    y = binom.rvs(n=1, size=samp_size, p=p3)\n",
    "    \n",
    "    ef.append(np.mean(y) - np.mean(x))\n",
    "    pvs.append(ttest_ind(x, y)[1])"
   ]
  },
  {
   "cell_type": "code",
   "execution_count": 82,
   "metadata": {},
   "outputs": [],
   "source": [
    "import matplotlib.pyplot as plt"
   ]
  },
  {
   "cell_type": "code",
   "execution_count": 116,
   "metadata": {},
   "outputs": [
    {
     "data": {
      "image/png": "[encoded data removed]",
      "text/plain": [
       "<Figure size 1152x720 with 2 Axes>"
      ]
     },
     "metadata": {
      "needs_background": "light"
     },
     "output_type": "display_data"
    }
   ],
   "source": [
    "fig, ax = plt.subplots(nrows=1, ncols=2, figsize=(16, 10))\n",
    "\n",
    "ax[0].hist(pvs)\n",
    "ax[1].hist(ef);\n",
    "\n",
    "ax[0].set_title('Pvalues distribution across simulations', size=14)\n",
    "ax[1].set_title('Effect sizes distribution across simulations', size=14);\n",
    "\n",
    "for a in ax:\n",
    "    a.spines['top'].set_visible(False)\n",
    "    a.spines['right'].set_visible(False)"
   ]
  },
  {
   "cell_type": "markdown",
   "metadata": {},
   "source": [
    "### We find a significant effect ~20% of times (which corresponds to expected power), but the effect is inflated. real effect is 2% and mean effect in case of stat significance is 4%\n",
    "\n"
   ]
  },
  {
   "cell_type": "code",
   "execution_count": 85,
   "metadata": {},
   "outputs": [],
   "source": [
    "pvs = np.array(pvs)\n",
    "ef = np.array(ef)"
   ]
  },
  {
   "cell_type": "code",
   "execution_count": 104,
   "metadata": {},
   "outputs": [
    {
     "name": "stdout",
     "output_type": "stream",
     "text": [
      "Estimated power is 0.2064\n",
      "Mean effect when pvalue < 0.05 is 0.0443425048141016\n"
     ]
    }
   ],
   "source": [
    "print(f'Estimated power is {np.mean(pvs < 0.05)}')\n",
    "print(f'Mean effect when pvalue < 0.05 is {np.mean(ef[pvs < 0.05])}')"
   ]
  }
 ],
 "metadata": {
  "kernelspec": {
   "display_name": "Python 3.6",
   "language": "python",
   "name": "python3.6"
  },
  "language_info": {
   "codemirror_mode": {
    "name": "ipython",
    "version": 3
   },
   "file_extension": ".py",
   "mimetype": "text/x-python",
   "name": "python",
   "nbconvert_exporter": "python",
   "pygments_lexer": "ipython3",
   "version": "3.6.9"
  }
 },
 "nbformat": 4,
 "nbformat_minor": 4
}
